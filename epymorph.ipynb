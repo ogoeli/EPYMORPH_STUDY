{
 "cells": [
  {
   "cell_type": "code",
   "execution_count": null,
   "id": "f60c0e43",
   "metadata": {},
   "outputs": [],
   "source": [
    "#conda activate epymorph_graphviz"
   ]
  },
  {
   "cell_type": "code",
   "execution_count": null,
   "id": "a5599b3e",
   "metadata": {},
   "outputs": [],
   "source": [
    "import os\n",
    "\n",
    "# Prepend TeX Live 2025 bin directory to PATH\n",
    "os.environ['PATH'] = '/scratch/ope4/texlive/2025/bin/x86_64-linux:' + os.environ['PATH']\n",
    "\n",
    "# Optional: check that the correct latex is found\n",
    "!which latex\n",
    "!latex --version\n"
   ]
  },
  {
   "cell_type": "code",
   "execution_count": null,
   "id": "7d2b91eb-2f1c-44c3-85f4-d497ef0d5c14",
   "metadata": {},
   "outputs": [],
   "source": [
    "import os\n",
    "\n",
    "# For example:\n",
    "# You could put this at the top of your program\n",
    "# to set a value for the variable named CENSUS_API_KEY.\n",
    "os.environ[\"CENSUS_API_KEY\"] = \"2d7297910dd1faf19164ab082cdcf9d696523ab0\""
   ]
  },
  {
   "cell_type": "markdown",
   "id": "6c70a25e-4413-4f2f-80d5-3d623c1b7210",
   "metadata": {},
   "source": [
    "# Estimating space- and time-varying transmission rate from data"
   ]
  },
  {
   "cell_type": "code",
   "execution_count": 2,
   "id": "71100fd3-c7cc-4623-8574-8976a60fc1df",
   "metadata": {},
   "outputs": [],
   "source": [
    "from epymorph.adrio import us_tiger\n",
    "from epymorph.data import ipm, mm\n",
    "from epymorph.geography.us_census import StateScope\n",
    "import epymorph.initializer as init\n",
    "from epymorph.rume import SingleStrataRUME\n",
    "from epymorph.simulation import default_rng\n",
    "from epymorph.simulator.basic.basic_simulator import BasicSimulator\n",
    "from epymorph.time import TimeFrame"
   ]
  },
  {
   "cell_type": "code",
   "execution_count": 3,
   "id": "67b97c7b-851e-44fd-950f-28ead96e7906",
   "metadata": {},
   "outputs": [],
   "source": [
    "#CustomScopes give you the most flexibility in representing geography.\n",
    "\n",
    "#nodes = number of locations\n",
    "#node IDS = A,B,C: the name of our grid_cell/polygons\n",
    "#node labels is the same as the ID\n",
    "from epymorph.kit import *\n",
    "\n",
    "scope = CustomScope([\"A\", \"B\", \"C\", \"D\", \"E\", \"F\", \"G\", \"H\"])"
   ]
  },
  {
   "cell_type": "code",
   "execution_count": 4,
   "id": "342911b7-ac32-403c-987c-489aea53c69b",
   "metadata": {},
   "outputs": [],
   "source": [
    "import numpy as np\n",
    "\n",
    "centroids = np.array(\n",
    "    [\n",
    "        #(-111.5, 33.8),\n",
    "        #(-106.6, 35.2),\n",
    "        #(-109.3, 32.1),\n",
    "        (-112,\t36),\n",
    "        (-112,\t36),\n",
    "        (-112,\t36),\n",
    "        (-112,\t36),\n",
    "        (-112,\t36),\n",
    "        (-112,\t36),\n",
    "        (-112,\t36),\n",
    "        (-112,\t36),\n",
    "    ],\n",
    "    dtype=CentroidDType  # already imported with epymorph.kit\n",
    ")\n",
    "\n"
   ]
  },
  {
   "cell_type": "code",
   "execution_count": 5,
   "id": "1d689d01",
   "metadata": {},
   "outputs": [],
   "source": [
    "\"\"\"Defines a compartmental IPM for a generic SIRS model.\"\"\"\n",
    "\n",
    "from sympy import Max\n",
    "\n",
    "from epymorph.attribute import AttributeDef\n",
    "from epymorph.compartment_model import CompartmentModel, compartment, edge\n",
    "from epymorph.data_shape import Shapes\n",
    "\n",
    "\n",
    "class SIRS_TREES(CompartmentModel):\n",
    "    \"\"\"A basic SIRS model.\"\"\"\n",
    "\n",
    "    compartments = [\n",
    "        compartment(\"S\", tags=[\"immobile\"]), #Susceptible\n",
    "        compartment(\"I1\", tags=[\"immobile\"]), #INFECTIOUS STAGE 1\n",
    "        compartment(\"I2\", tags=[\"immobile\"]), #INFECTIOUS STAGE 2\n",
    "        compartment(\"I3\", tags=[\"immobile\"]), #INFECTIOUS STAGE 3\n",
    "        compartment(\"R\", tags=[\"immobile\"]), #RECOVERED\n",
    "        compartment(\"D\", tags=[\"immobile\"]), #DEATH\n",
    "        compartment(\"X\", tags=[\"mobile\"]), #INSECT\n",
    "    ]\n",
    "\n",
    "    requirements = [\n",
    "        AttributeDef(\"beta\", type=float, shape=Shapes.TxN, comment=\"infectivity\"),\n",
    "        AttributeDef(\n",
    "            \"gamma\",\n",
    "            type=float,\n",
    "            shape=Shapes.TxN,\n",
    "            comment=\"progression from infected to recovered\",\n",
    "        ),\n",
    "        AttributeDef(\n",
    "            \"xi\",\n",
    "            type=float,\n",
    "            shape=Shapes.TxN,\n",
    "            comment=\"progression from recovered to susceptible\",\n",
    "        ),\n",
    "\n",
    "        AttributeDef(\n",
    "            \"birth_rate\",\n",
    "            type=float,\n",
    "            shape=Shapes.TxN,\n",
    "            comment=\"birth rate per day per capita\",\n",
    "        ),\n",
    "    ]\n",
    "\n",
    "    def edges(self, symbols):\n",
    "        [S, I1, I2, I3, R, D, X] = symbols.all_compartments\n",
    "        [β, γ, ξ, br] = symbols.all_requirements\n",
    "\n",
    "        # formulate N so as to avoid dividing by zero;\n",
    "        # this is safe in this instance because if the denominator is zero,\n",
    "        # the numerator must also be zero\n",
    "        N = Max(1, S + I1 + I2 + I3 + R + D + X)\n",
    "\n",
    "        return [\n",
    "            edge(S, I1, rate=β * S * X / N), ## S->I1 influenced by X\n",
    "            edge(I1, I2, rate=γ * I2),\n",
    "            edge(I2, I3, rate=γ * I3),\n",
    "            edge(I3, D, rate=γ * D),\n",
    "            edge(I1, R, rate=ξ * I1),\n",
    "            #edge(I2, R, rate=ξ * I2),\n",
    "            #edge(I3, R, rate=ξ * I3),  ##according to Monica, once it gets to noticable changes, the trees never recover\n",
    "            edge(R, S, rate=ξ * R),\n",
    "            edge(X, X, rate=0),\n",
    "            edge(BIRTH, X, rate = br * X),   #rate of birth in the Insect compartment alone          \n",
    "        ]\n"
   ]
  },
  {
   "cell_type": "code",
   "execution_count": 6,
   "id": "aed9d5bf",
   "metadata": {},
   "outputs": [
    {
     "data": {
      "image/png": "[encoded data removed]",
      "text/plain": [
       "<Figure size 1000x600 with 1 Axes>"
      ]
     },
     "metadata": {},
     "output_type": "display_data"
    }
   ],
   "source": [
    "##model conceptual diagram\n",
    "\n",
    "SIRS_TREES().diagram()"
   ]
  },
  {
   "cell_type": "code",
   "execution_count": 8,
   "id": "a1ccb268",
   "metadata": {},
   "outputs": [],
   "source": [
    "from functools import cached_property\n",
    "\n",
    "import numpy as np\n",
    "from numpy.typing import NDArray\n",
    "\n",
    "from epymorph.attribute import AttributeDef\n",
    "from epymorph.data_shape import Shapes\n",
    "from epymorph.data_type import CentroidType, SimDType\n",
    "from epymorph.movement_model import EveryDay, MovementClause, MovementModel\n",
    "from epymorph.simulation import Tick, TickDelta, TickIndex\n",
    "from epymorph.util import pairwise_haversine, row_normalize\n",
    "\n",
    "\n",
    "class CentroidsClause(MovementClause):\n",
    "    \"\"\"The clause of the centroids model.\"\"\"\n",
    "\n",
    "    requirements = (\n",
    "        AttributeDef(\n",
    "            \"population\", int, Shapes.N, comment=\"The total population at each node.\"\n",
    "        ),\n",
    "        AttributeDef(\n",
    "            \"centroid\",\n",
    "            CentroidType,\n",
    "            Shapes.N,\n",
    "            comment=\"The centroids for each node as (longitude, latitude) tuples.\",\n",
    "        ),\n",
    "        AttributeDef(\n",
    "            \"phi\",\n",
    "            float,\n",
    "            Shapes.Scalar,\n",
    "            default_value=40.0, #can this be NA since we dont know how far they can travel?\n",
    "            comment=\"Influences the distance that movers tend to travel.\",\n",
    "        ),\n",
    "        AttributeDef(\n",
    "            \"commuter_proportion\",\n",
    "            float,\n",
    "            Shapes.Scalar,\n",
    "            default_value=0.1,\n",
    "            comment=\"The proportion of the total population which commutes.\",\n",
    "        ),\n",
    "    )\n",
    "\n",
    "    predicate = EveryDay()\n",
    "    leaves = TickIndex(step=0)\n",
    "    returns = TickDelta(step=1, days=0)\n",
    "\n",
    "    @cached_property\n",
    "    def dispersal_kernel(self) -> NDArray[np.float64]:\n",
    "        \"\"\"\n",
    "        The NxN matrix or dispersal kernel describing the tendency for movers to move\n",
    "        to a particular location. In this model, the kernel is:\n",
    "            1 / e ^ (distance / phi)\n",
    "        which is then row-normalized.\n",
    "        \"\"\"\n",
    "        centroid = self.data(\"centroid\")\n",
    "        phi = self.data(\"phi\")\n",
    "        distance = pairwise_haversine(centroid)\n",
    "        return row_normalize(1 / np.exp(distance / phi))\n",
    "\n",
    "    def evaluate(self, tick: Tick) -> NDArray[np.int64]:\n",
    "        pop = self.data(\"population\")\n",
    "        comm_prop = self.data(\"commuter_proportion\")\n",
    "        n_commuters = np.floor(pop * comm_prop).astype(SimDType)\n",
    "        return self.rng.multinomial(n_commuters, self.dispersal_kernel)\n",
    "\n",
    "class BeetleAwayClause(MovementClause):\n",
    "    \"\"\"Clause for beetles that leave home and stay away all day.\"\"\"\n",
    "\n",
    "    requirements = CentroidsClause.requirements  # same requirements\n",
    "    #NEVER = TickDelta(step=0, days=0)  # negative day signals \"never\" in epymorph\n",
    "\n",
    "    predicate = EveryDay()\n",
    "    leaves = TickIndex(step=0)   # they leave at start\n",
    "    returns = TickDelta(step=0, days=0)  # no return within the day!\n",
    "    #returns = NEVER #They never return\n",
    "    \n",
    "\n",
    "\n",
    "    @cached_property\n",
    "    def dispersal_kernel(self) -> NDArray[np.float64]:\n",
    "        centroid = self.data(\"centroid\")\n",
    "        phi = self.data(\"phi\")\n",
    "        distance = pairwise_haversine(centroid)\n",
    "        return row_normalize(1 / np.exp(distance / phi))\n",
    "\n",
    "    def evaluate(self, tick: Tick) -> NDArray[np.int64]:\n",
    "        pop = self.data(\"population\")\n",
    "        comm_prop = self.data(\"commuter_proportion\")\n",
    "        n_commuters = np.floor(pop * comm_prop).astype(SimDType)\n",
    "        return self.rng.multinomial(n_commuters, self.dispersal_kernel)\n",
    "\n",
    "class Centroids(MovementModel):\n",
    "    \"\"\"\n",
    "    The centroids MM describes a basic commuter movement where a fixed proportion\n",
    "    of the population commutes every day, travels to another location for 1/3 of a day\n",
    "    (with a location likelihood that decreases with distance), and then returns home for\n",
    "    the remaining 2/3 of the day.\n",
    "    \"\"\"\n",
    "\n",
    "    steps = (1 / 3, 2/ 3) \n",
    "    clauses = (CentroidsClause(),)\n",
    "\n",
    "class BeetleAwayAllDay(MovementModel):\n",
    "    \"\"\"Beetles leave home and stay away all day.\"\"\"\n",
    "    steps = (1.0,)   # only one step\n",
    "    clauses = (BeetleAwayClause(),) # probalility that the BB travels 3/3 times of the day and also returns 3/3 times of the day.\n",
    "\n",
    "\n"
   ]
  },
  {
   "cell_type": "code",
   "execution_count": 9,
   "id": "0db03d17",
   "metadata": {},
   "outputs": [
    {
     "name": "stdout",
     "output_type": "stream",
     "text": [
      "Loading (unspecified)::(unspecified)::temperature (epymorph.adrio.prism.Temperature):\n",
      "  |####################| 100%  (3.989s)\n",
      "Loading (unspecified)::(unspecified)::dewpoint (epymorph.adrio.prism.DewPoint):\n",
      "  |####################| 100%  (3.347s)\n",
      "Loading epymorph.adrio.humidity.RelativeHumidity:\n",
      "  |####################| 100%  (0.002s)\n"
     ]
    }
   ],
   "source": [
    "## import climate variable from ADIRO\n",
    "\n",
    "from datetime import date\n",
    "from epymorph.kit import *\n",
    "from epymorph.kit import *\n",
    "from epymorph.adrio import us_tiger, prism, humidity\n",
    "\n",
    "precip_adrio = prism.Precipitation()\n",
    "mean_temp_adrio = prism.Temperature(\"Mean\")\n",
    "\n",
    "with sim_messaging(live=False):\n",
    "    relH = (\n",
    "        humidity.RelativeHumidity()\n",
    "        .with_context(\n",
    "            scope=scope,\n",
    "            time_frame=TimeFrame.rangex(\"2021-01-01\", \"2021-01-30\"), ## the simulation will run for a 3 years,\n",
    "            params={\n",
    "                \"centroid\": centroids,\n",
    "                \"temperature\": prism.Temperature(\"Mean\"),\n",
    "                \"dewpoint\": prism.DewPoint(),\n",
    "            },\n",
    "        )\n",
    "        .evaluate()\n",
    "    )"
   ]
  },
  {
   "cell_type": "code",
   "execution_count": 10,
   "id": "91dae242-fcd2-455b-8d98-a92e4bc71222",
   "metadata": {},
   "outputs": [
    {
     "data": {
      "image/png": "[encoded data removed]",
      "text/plain": [
       "<Figure size 640x480 with 1 Axes>"
      ]
     },
     "metadata": {},
     "output_type": "display_data"
    }
   ],
   "source": [
    "from epymorph.kit import *\n",
    "from epymorph.adrio import us_tiger\n",
    "\n",
    "\n",
    "rume = SingleStrataRUME.build(\n",
    "    #ipm=ipm.SIRS(),\n",
    "    ipm=SIRS_TREES(),\n",
    "    #mm=mm.Centroids(),\n",
    "    mm=BeetleAwayAllDay(),\n",
    "    #init=init.SingleLocation(location=0, seed_size=100),\n",
    "    init=init.Explicit([\n",
    "        [1_300, 0, 0, 0, 0, 0, 1_000],\n",
    "        [1_300, 0, 0, 0, 0, 0, 0],\n",
    "        [1_300, 0, 0, 0, 0, 0, 0],\n",
    "        [1_300, 0, 0, 0, 0, 0, 0],\n",
    "        [1_300, 0, 0, 0, 0, 0, 0],\n",
    "        [1_300, 0, 0, 0, 0, 0, 0],\n",
    "        [1_300, 0, 0, 0, 0, 0, 0],\n",
    "        [1_300, 0, 0, 0, 0, 0, 0]\n",
    "    ]),\n",
    "    #scope=StateScope.in_states([\"AZ\", \"CO\", \"NM\", \"UT\"], year=2020),\n",
    "    scope=CustomScope([\"A\", \"B\", \"C\", \"D\", \"E\", \"F\", \"G\", \"H\"]),\n",
    "    time_frame=TimeFrame.rangex(\"2021-01-01\", \"2021-01-30\"), \n",
    "    params={\n",
    "        \"beta\": 0.3,\n",
    "        \"gamma\": 1/5,\n",
    "        \"xi\": 1/365,\n",
    "        \"birth_rate\": 1 / (70 * 365), ## how much do they reproduce in a year?\n",
    "        \"temperature\": mean_temp_adrio,\n",
    "        \"precipitation\": precip_adrio,\n",
    "        \"relative humidity\": relH,\n",
    "        \"population\": [\n",
    "            #4_151_502, # Arizona\n",
    "            #4_773_714, # Colorado\n",
    "            #4_117_522#, # New Mexico\n",
    "            #4_271_616, # Utah\n",
    "            1_326, #total tree population per 100m by 100m grid\n",
    "            1_326,\n",
    "            1_326,\n",
    "            1_326,\n",
    "            1_326,\n",
    "            1_326,\n",
    "            1_326,\n",
    "            1_326\n",
    "        ],\n",
    "        \"centroid\": centroids,\n",
    "    },\n",
    ")\n",
    "\n",
    "sim = BasicSimulator(rume)\n",
    "output = sim.run(rng_factory=default_rng(42))\n",
    "\n",
    "output.plot.line(\n",
    "    geo=output.rume.scope.select.all(),\n",
    "    time=output.rume.time_frame.select.all(),\n",
    "    quantity=output.rume.ipm.select.compartments(\"S\"),\n",
    ")"
   ]
  },
  {
   "cell_type": "code",
   "execution_count": null,
   "id": "0bc1b163",
   "metadata": {},
   "outputs": [],
   "source": [
    "##model conceptual diagram\n",
    "\n",
    "SIRS_TREES().diagram()"
   ]
  },
  {
   "cell_type": "code",
   "execution_count": 11,
   "id": "8d8eeddc-3ac6-4057-9ab9-f1e5331890e4",
   "metadata": {},
   "outputs": [
    {
     "data": {
      "image/png": "[encoded data removed]",
      "text/plain": [
       "<Figure size 640x480 with 1 Axes>"
      ]
     },
     "metadata": {},
     "output_type": "display_data"
    }
   ],
   "source": [
    "##prob of occuring aganist distance:\n",
    "\n",
    "import matplotlib.pyplot as plt\n",
    "phi = 200.0 ##can be any value but good to find a constant\n",
    "xs = np.arange(1,1000) #this should be the actual distance between the grid cells A\n",
    "ys = 1 / np.exp(xs / phi)\n",
    "\n",
    "plt.plot(xs, ys)\n",
    "plt.show()"
   ]
  },
  {
   "cell_type": "code",
   "execution_count": 12,
   "id": "808d807c",
   "metadata": {},
   "outputs": [
    {
     "data": {
      "image/png": "[encoded data removed]",
      "text/plain": [
       "<Figure size 640x480 with 1 Axes>"
      ]
     },
     "metadata": {},
     "output_type": "display_data"
    }
   ],
   "source": [
    "## plot of how all the grid cells compartments will behave\n",
    "\n",
    "output.plot.line(\n",
    "    geo=output.rume.scope.select.by_id('A'),\n",
    "    time=output.rume.time_frame.select.all(),\n",
    "    quantity=output.rume.ipm.select.compartments(),\n",
    ")"
   ]
  },
  {
   "cell_type": "markdown",
   "id": "8f23e37e",
   "metadata": {},
   "source": [
    "## Estimating space- and time-varying transmission rate from data\n",
    "# Exercise 1\n"
   ]
  },
  {
   "cell_type": "code",
   "execution_count": 13,
   "id": "4436d80e-a354-4e53-a57b-d863eb1f264e",
   "metadata": {},
   "outputs": [
    {
     "data": {
      "text/plain": [
       "array(['A', 'B', 'C', 'D', 'E', 'F', 'G', 'H'], dtype='<U1')"
      ]
     },
     "execution_count": 13,
     "metadata": {},
     "output_type": "execute_result"
    }
   ],
   "source": [
    "scope = CustomScope([\"A\", \"B\", \"C\", \"D\", \"E\", \"F\", \"G\", \"H\"])\n",
    "scope.labels"
   ]
  },
  {
   "cell_type": "code",
   "execution_count": 14,
   "id": "7cf81f8b",
   "metadata": {},
   "outputs": [],
   "source": [
    "#INIT\n",
    "\n",
    "init=init.Explicit([\n",
    "        [1_300, 0, 0, 0, 0, 0, 1_000],\n",
    "        [1_300, 0, 0, 0, 0, 0, 0],\n",
    "        [1_300, 0, 0, 0, 0, 0, 0],\n",
    "        [1_300, 0, 0, 0, 0, 0, 0],\n",
    "        [1_300, 0, 0, 0, 0, 0, 0],\n",
    "        [1_300, 0, 0, 0, 0, 0, 0],\n",
    "        [1_300, 0, 0, 0, 0, 0, 0],\n",
    "        [1_300, 0, 0, 0, 0, 0, 0]\n",
    "    ]),"
   ]
  },
  {
   "cell_type": "code",
   "execution_count": 15,
   "id": "14b91e17-70d3-4068-997e-0ba4b9e5feee",
   "metadata": {},
   "outputs": [],
   "source": [
    "import numpy as np\n",
    "\n",
    "from epymorph.kit import *\n",
    "from epymorph.adrio import acs5\n",
    "from epymorph.initializer import Proportional"
   ]
  },
  {
   "cell_type": "code",
   "execution_count": 16,
   "id": "4061b682",
   "metadata": {},
   "outputs": [],
   "source": [
    "\n",
    "#Construct a RUME with a scope consisting of our scope, \n",
    "# but assume that there is no movement between the states. Essentially, \n",
    "# this simulates four independent populations. Use an SIRH IPM. In each State, \n",
    "# initialize a small fraction initially infectious. Run for 26 weeks.\n",
    "\n",
    "n = 8 #number of scope\n",
    "rume = SingleStrataRUME.build(\n",
    "    #ipm=ipm.SIRH(),\n",
    "    ipm=SIRS_TREES(),\n",
    "    mm=mm.No(),\n",
    "    scope=scope,\n",
    "    init=Proportional(\n",
    "        ratios=np.broadcast_to(\n",
    "            np.array([9999, 1, 0, 0, 0, 0, 0], dtype=np.int64), shape=(n, 7) #number of individual in each compartment, so S= 9999 etc.\n",
    "        )\n",
    "    ),\n",
    "    #init=init,\n",
    "    time_frame=TimeFrame.of(\"2023-07-15\", 7 * 26 + 1),\n",
    "    params={\n",
    "        \"beta\": 0.3,  # Placeholder value\n",
    "        \"gamma\": 0.2,\n",
    "        \"xi\": 1 / 365,\n",
    "        \"birth_rate\": 1 / (70 * 365), ## how much do they reproduce in a year?\n",
    "        \"hospitalization_prob\": 200 / 100_000,\n",
    "        \"hospitalization_duration\": 5.0, ##ask tyler if this duration can be made into number of days the insect stays in a particular tree etc\n",
    "        \"population\": [\n",
    "            #4_151_502, # Arizona\n",
    "            #4_773_714, # Colorado\n",
    "            #4_117_522#, # New Mexico\n",
    "            #4_271_616, # Utah\n",
    "            1_326, #total tree population per 100m by 100m grid\n",
    "            1_326,\n",
    "            1_326,\n",
    "            1_326,\n",
    "            1_326,\n",
    "            1_326,\n",
    "            1_326,\n",
    "            1_326\n",
    "        ],\n",
    "    },\n",
    ")"
   ]
  },
  {
   "cell_type": "code",
   "execution_count": 17,
   "id": "1a2c1d4c",
   "metadata": {},
   "outputs": [],
   "source": [
    "#Specify the parameters to be estimated, \n",
    "# modeling the beta in each state using geometric Brownian motion with a uniform initial distribution.\n",
    "\n",
    "from epymorph.parameter_fitting.distribution import Uniform\n",
    "from epymorph.parameter_fitting.utils.parameter_estimation import EstimateParameters\n",
    "from epymorph.parameter_fitting.dynamics import GeometricBrownianMotion\n",
    "\n",
    "params_space = {\n",
    "    \"beta\": EstimateParameters.TimeVarying(\n",
    "        distribution=Uniform(a=0.1, b=0.8),\n",
    "        dynamics=GeometricBrownianMotion(volatility=0.1),\n",
    "    ),\n",
    "}"
   ]
  },
  {
   "cell_type": "code",
   "execution_count": 19,
   "id": "727549b7",
   "metadata": {},
   "outputs": [],
   "source": [
    "#Specify the filter type (Particle Filter). \n",
    "# Note that here is where we could specify the resampler used by the filter, \n",
    "# but we’ll just use the default (not localized).\n",
    "\n",
    "from epymorph.parameter_fitting.filter.particle_filter import ParticleFilter\n",
    "\n",
    "filter_type = ParticleFilter(num_particles=300)"
   ]
  },
  {
   "cell_type": "code",
   "execution_count": 47,
   "id": "19343117",
   "metadata": {},
   "outputs": [
    {
     "name": "stdout",
     "output_type": "stream",
     "text": [
      "<epymorph.parameter_fitting.utils.observations.Observations object at 0x14942814f110>\n"
     ]
    }
   ],
   "source": [
    "\n",
    "from epymorph.adrio.cdc import InfluenzaStateHospitalization\n",
    "from epymorph.parameter_fitting.likelihood import Poisson\n",
    "from epymorph.parameter_fitting.utils.observations import ModelLink, Observations\n",
    "from epymorph.time import EveryNDays\n",
    "\n",
    "observations = Observations(\n",
    "    source=mean_temp_adrio,\n",
    "    model_link=ModelLink(\n",
    "        quantity=rume.ipm.select.events(\"I3->D\"),\n",
    "        time=rume.time_frame.select.all().group(EveryNDays(7)).agg(),\n",
    "        geo=rume.scope.select.all(),\n",
    "    ),\n",
    "    likelihood=Poisson(),\n",
    ")\n",
    "\n",
    "print(observations)"
   ]
  },
  {
   "cell_type": "code",
   "execution_count": null,
   "id": "413086f8",
   "metadata": {},
   "outputs": [],
   "source": []
  },
  {
   "cell_type": "code",
   "execution_count": null,
   "id": "7261a05b",
   "metadata": {},
   "outputs": [],
   "source": [
    "#Create the filter simulation object using the RUME.\n",
    "\n",
    "from epymorph.parameter_fitting.particlefilter_simulation import FilterSimulation\n",
    "\n",
    "sim = FilterSimulation(\n",
    "    rume=rume,\n",
    "    observations=observations,\n",
    "    filter_type=filter_type,\n",
    "    params_space=params_space,\n",
    ")"
   ]
  },
  {
   "cell_type": "markdown",
   "id": "672fbd26",
   "metadata": {},
   "source": [
    "# Exercise 3"
   ]
  },
  {
   "cell_type": "code",
   "execution_count": 26,
   "id": "0bd02ee9",
   "metadata": {},
   "outputs": [],
   "source": [
    "#Create a new RUME, specifying a commuter movement model.\n",
    "\n",
    "from epymorph.adrio import commuting_flows\n",
    "\n",
    "rume = SingleStrataRUME.build(\n",
    "    ipm=SIRS_TREES(),\n",
    "    mm=mm.Pei(),\n",
    "    scope=scope,\n",
    "    init=Proportional(\n",
    "        ratios=np.broadcast_to(\n",
    "            np.array([9999, 1, 0, 0, 0, 0, 0], dtype=np.int64), shape=(8, 7)\n",
    "        )\n",
    "    ),\n",
    "    time_frame=TimeFrame.of(\"2022-09-15\", 7 * 26 + 1),\n",
    "    params={\n",
    "        \"beta\": 0.3,  # Placeholder value\n",
    "        \"gamma\": 0.2,\n",
    "        \"xi\": 1 / 365,\n",
    "        \"birth_rate\": 1 / (70 * 365), ## how much do they reproduce in a year?\n",
    "        \"hospitalization_prob\": 200 / 100_000,\n",
    "        \"hospitalization_duration\": 5.0,\n",
    "        \"population\": [\n",
    "            #4_151_502, # Arizona\n",
    "            #4_773_714, # Colorado\n",
    "            #4_117_522#, # New Mexico\n",
    "            #4_271_616, # Utah\n",
    "            1_326, #total tree population per 100m by 100m grid\n",
    "            1_326,\n",
    "            1_326,\n",
    "            1_326,\n",
    "            1_326,\n",
    "            1_326,\n",
    "            1_326,\n",
    "            1_326\n",
    "        ],\n",
    "        \"commuters\": commuting_flows.Commuters(),\n",
    "        \"centroids\":centroids,\n",
    "    },\n",
    ")"
   ]
  },
  {
   "cell_type": "code",
   "execution_count": 27,
   "id": "6b4db15b",
   "metadata": {},
   "outputs": [
    {
     "ename": "ADRIOContextError",
     "evalue": "Invalid context for gpm:all::mm::commuters (gpm:all::mm::commuters): US State or County geo scope required.",
     "output_type": "error",
     "traceback": [
      "\u001b[0;31m---------------------------------------------------------------------------\u001b[0m",
      "\u001b[0;31mADRIOContextError\u001b[0m                         Traceback (most recent call last)",
      "Cell \u001b[0;32mIn[27], line 11\u001b[0m\n\u001b[1;32m      9\u001b[0m \u001b[39m# Precompute the commuter matrix.\u001b[39;00m\n\u001b[1;32m     10\u001b[0m rng \u001b[39m=\u001b[39m np\u001b[39m.\u001b[39mrandom\u001b[39m.\u001b[39mdefault_rng(seed\u001b[39m=\u001b[39m\u001b[39m1\u001b[39m)\n\u001b[0;32m---> 11\u001b[0m data_resolver \u001b[39m=\u001b[39m rume\u001b[39m.\u001b[39;49mevaluate_params(rng\u001b[39m=\u001b[39;49mrng)\n\u001b[1;32m     12\u001b[0m commuter_matrix \u001b[39m=\u001b[39m data_resolver\u001b[39m.\u001b[39mresolve(name, attr_def)\n\u001b[1;32m     14\u001b[0m \u001b[39m# Create a copy of the RUME, but with the commuter matrix replaced.\u001b[39;00m\n",
      "File \u001b[0;32m~/.local/lib/python3.11/site-packages/epymorph/rume.py:552\u001b[0m, in \u001b[0;36mRUME.evaluate_params\u001b[0;34m(self, rng, override_params)\u001b[0m\n\u001b[1;32m    549\u001b[0m     ps \u001b[39m=\u001b[39m {NamePattern\u001b[39m.\u001b[39mof(k): v \u001b[39mfor\u001b[39;00m k, v \u001b[39min\u001b[39;00m override_params\u001b[39m.\u001b[39mitems()}\n\u001b[1;32m    551\u001b[0m reqs \u001b[39m=\u001b[39m \u001b[39mself\u001b[39m\u001b[39m.\u001b[39mrequirements_tree(ps)\n\u001b[0;32m--> 552\u001b[0m \u001b[39mreturn\u001b[39;00m reqs\u001b[39m.\u001b[39;49mevaluate(\u001b[39mself\u001b[39;49m\u001b[39m.\u001b[39;49mscope, \u001b[39mself\u001b[39;49m\u001b[39m.\u001b[39;49mtime_frame, \u001b[39mself\u001b[39;49m\u001b[39m.\u001b[39;49mipm, rng)\n",
      "File \u001b[0;32m~/.local/lib/python3.11/site-packages/epymorph/database.py:720\u001b[0m, in \u001b[0;36mReqTree.evaluate\u001b[0;34m(self, scope, time_frame, ipm, rng)\u001b[0m\n\u001b[1;32m    712\u001b[0m \u001b[39mdef\u001b[39;00m\u001b[39m \u001b[39m\u001b[39mevaluate\u001b[39m(\n\u001b[1;32m    713\u001b[0m     \u001b[39mself\u001b[39m,\n\u001b[1;32m    714\u001b[0m     scope: GeoScope \u001b[39m|\u001b[39m \u001b[39mNone\u001b[39;00m,\n\u001b[0;32m   (...)\u001b[0m\n\u001b[1;32m    717\u001b[0m     rng: np\u001b[39m.\u001b[39mrandom\u001b[39m.\u001b[39mGenerator \u001b[39m|\u001b[39m \u001b[39mNone\u001b[39;00m,\n\u001b[1;32m    718\u001b[0m ) \u001b[39m-\u001b[39m\u001b[39m>\u001b[39m DataResolver:\n\u001b[1;32m    719\u001b[0m \u001b[39m    \u001b[39m\u001b[39m\"\"\"Evaluate this tree. See: `evaluate_requirements()`.\"\"\"\u001b[39;00m\n\u001b[0;32m--> 720\u001b[0m     \u001b[39mreturn\u001b[39;00m evaluate_requirements(\u001b[39mself\u001b[39;49m, scope, time_frame, ipm, rng)\n",
      "File \u001b[0;32m~/.local/lib/python3.11/site-packages/epymorph/database.py:1025\u001b[0m, in \u001b[0;36mevaluate_requirements\u001b[0;34m(req, scope, time_frame, ipm, rng)\u001b[0m\n\u001b[1;32m   1022\u001b[0m     value \u001b[39m=\u001b[39m evaluated[res_tree]\n\u001b[1;32m   1023\u001b[0m \u001b[39melse\u001b[39;00m:\n\u001b[1;32m   1024\u001b[0m     \u001b[39m# Evaluate\u001b[39;00m\n\u001b[0;32m-> 1025\u001b[0m     value \u001b[39m=\u001b[39m evaluate_param(\n\u001b[1;32m   1026\u001b[0m         node\u001b[39m.\u001b[39;49mvalue,\n\u001b[1;32m   1027\u001b[0m         node\u001b[39m.\u001b[39;49mname,\n\u001b[1;32m   1028\u001b[0m         resolved,\n\u001b[1;32m   1029\u001b[0m         scope,\n\u001b[1;32m   1030\u001b[0m         time_frame,\n\u001b[1;32m   1031\u001b[0m         ipm,\n\u001b[1;32m   1032\u001b[0m         rng,\n\u001b[1;32m   1033\u001b[0m     )\n\u001b[1;32m   1035\u001b[0m     \u001b[39mif\u001b[39;00m \u001b[39mnot\u001b[39;00m \u001b[39misinstance\u001b[39m(value, np\u001b[39m.\u001b[39mndarray):\n\u001b[1;32m   1036\u001b[0m         err \u001b[39m=\u001b[39m (\n\u001b[1;32m   1037\u001b[0m             \u001b[39mf\u001b[39m\u001b[39m\"\u001b[39m\u001b[39mAttribute \u001b[39m\u001b[39m'\u001b[39m\u001b[39m{\u001b[39;00mnode\u001b[39m.\u001b[39mname\u001b[39m}\u001b[39;00m\u001b[39m'\u001b[39m\u001b[39m (\u001b[39m\u001b[39m{\u001b[39;00mnode\u001b[39m.\u001b[39mresolution\u001b[39m}\u001b[39;00m\u001b[39m) did \u001b[39m\u001b[39m\"\u001b[39m\n\u001b[1;32m   1038\u001b[0m             \u001b[39mf\u001b[39m\u001b[39m\"\u001b[39m\u001b[39mnot evaluate to a numpy array.\u001b[39m\u001b[39m\"\u001b[39m\n\u001b[1;32m   1039\u001b[0m         )\n",
      "File \u001b[0;32m/scratch/ope4/conda/envs/epymorph_graphviz/lib/python3.11/functools.py:909\u001b[0m, in \u001b[0;36msingledispatch.<locals>.wrapper\u001b[0;34m(*args, **kw)\u001b[0m\n\u001b[1;32m    905\u001b[0m \u001b[39mif\u001b[39;00m \u001b[39mnot\u001b[39;00m args:\n\u001b[1;32m    906\u001b[0m     \u001b[39mraise\u001b[39;00m \u001b[39mTypeError\u001b[39;00m(\u001b[39mf\u001b[39m\u001b[39m'\u001b[39m\u001b[39m{\u001b[39;00mfuncname\u001b[39m}\u001b[39;00m\u001b[39m requires at least \u001b[39m\u001b[39m'\u001b[39m\n\u001b[1;32m    907\u001b[0m                     \u001b[39m'\u001b[39m\u001b[39m1 positional argument\u001b[39m\u001b[39m'\u001b[39m)\n\u001b[0;32m--> 909\u001b[0m \u001b[39mreturn\u001b[39;00m dispatch(args[\u001b[39m0\u001b[39;49m]\u001b[39m.\u001b[39;49m\u001b[39m__class__\u001b[39;49m)(\u001b[39m*\u001b[39;49margs, \u001b[39m*\u001b[39;49m\u001b[39m*\u001b[39;49mkw)\n",
      "File \u001b[0;32m~/.local/lib/python3.11/site-packages/epymorph/adrio/adrio.py:761\u001b[0m, in \u001b[0;36m_\u001b[0;34m(value, name, data, scope, time_frame, ipm, rng)\u001b[0m\n\u001b[1;32m    759\u001b[0m ctx \u001b[39m=\u001b[39m Context\u001b[39m.\u001b[39mof(name, data, scope, time_frame, ipm, rng)\n\u001b[1;32m    760\u001b[0m sim_func \u001b[39m=\u001b[39m value\u001b[39m.\u001b[39mwith_context_internal(ctx)\n\u001b[0;32m--> 761\u001b[0m \u001b[39mreturn\u001b[39;00m sim_func\u001b[39m.\u001b[39;49mevaluate()\n",
      "File \u001b[0;32m~/.local/lib/python3.11/site-packages/epymorph/simulation.py:497\u001b[0m, in \u001b[0;36mSimulationFunctionClass.__new__.<locals>.evaluate\u001b[0;34m(self, *args, **kwargs)\u001b[0m\n\u001b[1;32m    495\u001b[0m \u001b[39m@functools\u001b[39m\u001b[39m.\u001b[39mwraps(orig_evaluate)\n\u001b[1;32m    496\u001b[0m \u001b[39mdef\u001b[39;00m\u001b[39m \u001b[39m\u001b[39mevaluate\u001b[39m(\u001b[39mself\u001b[39m, \u001b[39m*\u001b[39margs, \u001b[39m*\u001b[39m\u001b[39m*\u001b[39mkwargs):\n\u001b[0;32m--> 497\u001b[0m     result \u001b[39m=\u001b[39m orig_evaluate(\u001b[39mself\u001b[39;49m, \u001b[39m*\u001b[39;49margs, \u001b[39m*\u001b[39;49m\u001b[39m*\u001b[39;49mkwargs)\n\u001b[1;32m    498\u001b[0m     \u001b[39mself\u001b[39m\u001b[39m.\u001b[39mvalidate(result)\n\u001b[1;32m    499\u001b[0m     \u001b[39mreturn\u001b[39;00m result\n",
      "File \u001b[0;32m~/.local/lib/python3.11/site-packages/epymorph/adrio/adrio.py:677\u001b[0m, in \u001b[0;36mADRIO.evaluate\u001b[0;34m(self)\u001b[0m\n\u001b[1;32m    668\u001b[0m \u001b[39mdef\u001b[39;00m\u001b[39m \u001b[39m\u001b[39mevaluate\u001b[39m(\u001b[39mself\u001b[39m) \u001b[39m-\u001b[39m\u001b[39m>\u001b[39m NDArray[ResultT]:\n\u001b[1;32m    669\u001b[0m \u001b[39m    \u001b[39m\u001b[39m\"\"\"\u001b[39;00m\n\u001b[1;32m    670\u001b[0m \u001b[39m    Evaluates the ADRIO in the current context.\u001b[39;00m\n\u001b[1;32m    671\u001b[0m \n\u001b[0;32m   (...)\u001b[0m\n\u001b[1;32m    675\u001b[0m \u001b[39m        The result value.\u001b[39;00m\n\u001b[1;32m    676\u001b[0m \u001b[39m    \"\"\"\u001b[39;00m\n\u001b[0;32m--> 677\u001b[0m     \u001b[39mreturn\u001b[39;00m \u001b[39mself\u001b[39;49m\u001b[39m.\u001b[39;49minspect()\u001b[39m.\u001b[39mresult\n",
      "File \u001b[0;32m~/.local/lib/python3.11/site-packages/epymorph/adrio/adrio.py:825\u001b[0m, in \u001b[0;36mFetchADRIO.inspect\u001b[0;34m(self)\u001b[0m\n\u001b[1;32m    823\u001b[0m ctx \u001b[39m=\u001b[39m \u001b[39mself\u001b[39m\u001b[39m.\u001b[39mcontext\n\u001b[1;32m    824\u001b[0m \u001b[39mtry\u001b[39;00m:\n\u001b[0;32m--> 825\u001b[0m     \u001b[39mself\u001b[39;49m\u001b[39m.\u001b[39;49mvalidate_context(ctx)\n\u001b[1;32m    826\u001b[0m \u001b[39mexcept\u001b[39;00m ADRIOError:\n\u001b[1;32m    827\u001b[0m     \u001b[39mraise\u001b[39;00m\n",
      "File \u001b[0;32m~/.local/lib/python3.11/site-packages/epymorph/adrio/commuting_flows.py:214\u001b[0m, in \u001b[0;36mCommuters.validate_context\u001b[0;34m(self, context)\u001b[0m\n\u001b[1;32m    212\u001b[0m \u001b[39m@override\u001b[39m\n\u001b[1;32m    213\u001b[0m \u001b[39mdef\u001b[39;00m\u001b[39m \u001b[39m\u001b[39mvalidate_context\u001b[39m(\u001b[39mself\u001b[39m, context: Context) \u001b[39m-\u001b[39m\u001b[39m>\u001b[39m \u001b[39mNone\u001b[39;00m:\n\u001b[0;32m--> 214\u001b[0m     \u001b[39mself\u001b[39;49m\u001b[39m.\u001b[39;49m_get_config(context)\n",
      "File \u001b[0;32m~/.local/lib/python3.11/site-packages/epymorph/adrio/commuting_flows.py:182\u001b[0m, in \u001b[0;36mCommuters._get_config\u001b[0;34m(self, context)\u001b[0m\n\u001b[1;32m    180\u001b[0m \u001b[39mif\u001b[39;00m \u001b[39mnot\u001b[39;00m \u001b[39misinstance\u001b[39m(scope, StateScope \u001b[39m|\u001b[39m CountyScope):\n\u001b[1;32m    181\u001b[0m     err \u001b[39m=\u001b[39m \u001b[39m\"\u001b[39m\u001b[39mUS State or County geo scope required.\u001b[39m\u001b[39m\"\u001b[39m\n\u001b[0;32m--> 182\u001b[0m     \u001b[39mraise\u001b[39;00m ADRIOContextError(\u001b[39mself\u001b[39m, context, err)\n\u001b[1;32m    184\u001b[0m config \u001b[39m=\u001b[39m \u001b[39mnext\u001b[39m((x \u001b[39mfor\u001b[39;00m x \u001b[39min\u001b[39;00m _CONFIG \u001b[39mif\u001b[39;00m x\u001b[39m.\u001b[39mgeo_year \u001b[39m==\u001b[39m scope\u001b[39m.\u001b[39myear), \u001b[39mNone\u001b[39;00m)\n\u001b[1;32m    185\u001b[0m \u001b[39mif\u001b[39;00m config \u001b[39mis\u001b[39;00m \u001b[39mNone\u001b[39;00m:\n",
      "\u001b[0;31mADRIOContextError\u001b[0m: Invalid context for gpm:all::mm::commuters (gpm:all::mm::commuters): US State or County geo scope required."
     ]
    }
   ],
   "source": [
    "#Create a copy of the RUME, but where the commuter matrix is precomputed.\n",
    "\n",
    "import dataclasses\n",
    "from epymorph.attribute import AbsoluteName, NamePattern\n",
    "\n",
    "name = AbsoluteName(strata=\"gpm:all\", module=\"mm\", id=\"commuters\")\n",
    "attr_def = rume.requirements[name]\n",
    "\n",
    "# Precompute the commuter matrix.\n",
    "rng = np.random.default_rng(seed=1)\n",
    "data_resolver = rume.evaluate_params(rng=rng)\n",
    "commuter_matrix = data_resolver.resolve(name, attr_def)\n",
    "\n",
    "# Create a copy of the RUME, but with the commuter matrix replaced.\n",
    "params_copy = dict(rume.params)\n",
    "params_copy[NamePattern.of(name.id)] = commuter_matrix\n",
    "rume_copy = dataclasses.replace(rume, params=params_copy)"
   ]
  }
 ],
 "metadata": {
  "kernelspec": {
   "display_name": "Python 3 (ipykernel)",
   "language": "python",
   "name": "python3"
  },
  "language_info": {
   "codemirror_mode": {
    "name": "ipython",
    "version": 3
   },
   "file_extension": ".py",
   "mimetype": "text/x-python",
   "name": "python",
   "nbconvert_exporter": "python",
   "pygments_lexer": "ipython3",
   "version": "3.11.13"
  }
 },
 "nbformat": 4,
 "nbformat_minor": 5
}
