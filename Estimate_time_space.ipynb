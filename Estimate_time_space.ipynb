{
 "cells": [
  {
   "cell_type": "code",
   "execution_count": 1,
   "metadata": {},
   "outputs": [
    {
     "name": "stdout",
     "output_type": "stream",
     "text": [
      "/scratch/ope4/texlive/2025/bin/x86_64-linux/latex\n",
      "pdfTeX 3.141592653-2.6-1.40.28 (TeX Live 2025)\n",
      "kpathsea version 6.4.1\n",
      "Copyright 2025 Han The Thanh (pdfTeX) et al.\n",
      "There is NO warranty.  Redistribution of this software is\n",
      "covered by the terms of both the pdfTeX copyright and\n",
      "the Lesser GNU General Public License.\n",
      "For more information about these matters, see the file\n",
      "named COPYING and the pdfTeX source.\n",
      "Primary author of pdfTeX: Han The Thanh (pdfTeX) et al.\n",
      "Compiled with libpng 1.6.46; using libpng 1.6.46\n",
      "Compiled with zlib 1.3.1; using zlib 1.3.1\n",
      "Compiled with xpdf version 4.04\n"
     ]
    }
   ],
   "source": [
    "import os\n",
    "\n",
    "# Prepend TeX Live 2025 bin directory to PATH\n",
    "os.environ['PATH'] = '/scratch/ope4/texlive/2025/bin/x86_64-linux:' + os.environ['PATH']\n",
    "\n",
    "# Optional: check that the correct latex is found\n",
    "!which latex\n",
    "!latex --version\n"
   ]
  },
  {
   "cell_type": "markdown",
   "metadata": {},
   "source": [
    "## Estimating space- and time-varying transmission rate from data\n",
    "# Exercise 1\n",
    "# https://docs.www.epimorph.org/demo/G1.L2.1-pf.html\n"
   ]
  },
  {
   "cell_type": "code",
   "execution_count": 2,
   "metadata": {},
   "outputs": [],
   "source": [
    "#CustomScopes give you the most flexibility in representing geography.\n",
    "\n",
    "#nodes = number of locations\n",
    "#node IDS = A,B,C: the name of our grid_cell/polygons\n",
    "#node labels is the same as the ID\n",
    "from epymorph.kit import *\n",
    "import numpy as np\n",
    "\n",
    "from epymorph.kit import *\n",
    "from epymorph.adrio import acs5\n",
    "from epymorph.initializer import Proportional\n",
    "\n"
   ]
  },
  {
   "cell_type": "code",
   "execution_count": 3,
   "metadata": {},
   "outputs": [
    {
     "data": {
      "text/plain": [
       "<epymorph.geography.custom.CustomScope at 0x14f325e9b750>"
      ]
     },
     "execution_count": 3,
     "metadata": {},
     "output_type": "execute_result"
    }
   ],
   "source": [
    "scope = CustomScope([\"A\", \"B\", \"C\", \"D\", \"E\", \"F\", \"G\", \"H\"])\n",
    "scope"
   ]
  },
  {
   "cell_type": "code",
   "execution_count": 4,
   "metadata": {},
   "outputs": [],
   "source": [
    "import numpy as np\n",
    "\n",
    "centroids = np.array(\n",
    "    [\n",
    "        #(-111.5, 33.8),\n",
    "        #(-106.6, 35.2),\n",
    "        #(-109.3, 32.1),\n",
    "        (-112,\t36),\n",
    "        (-112,\t36),\n",
    "        (-112,\t36),\n",
    "        (-112,\t36),\n",
    "        (-112,\t36),\n",
    "        (-112,\t36),\n",
    "        (-112,\t36),\n",
    "        (-112,\t36),\n",
    "    ],\n",
    "    dtype=CentroidDType  # already imported with epymorph.kit\n",
    ")\n",
    "\n"
   ]
  },
  {
   "cell_type": "code",
   "execution_count": 5,
   "metadata": {},
   "outputs": [
    {
     "name": "stderr",
     "output_type": "stream",
     "text": [
      "/home/ope4/.local/lib/python3.11/site-packages/epymorph/compartment_model.py:717: UserWarning: Possible issue in SIRS_TREES: not all declared requirements are being used in transitions.\n",
      "Extra requirements: xi\n",
      "  warn(msg)\n"
     ]
    }
   ],
   "source": [
    "\"\"\"Defines a compartmental IPM for a generic SIRH model.\"\"\"\n",
    "\n",
    "from sympy import Max\n",
    "\n",
    "from epymorph.attribute import AttributeDef\n",
    "from epymorph.compartment_model import CompartmentModel, compartment, edge, fork\n",
    "from epymorph.data_shape import Shapes\n",
    "\n",
    "\n",
    "class SIRS_TREES(CompartmentModel):\n",
    "    \"\"\"A basic SIRH model.\"\"\"\n",
    "\n",
    "    compartments = [\n",
    "        compartment(\"S\", tags=[\"immobile\"]),\n",
    "        compartment(\"I\", tags=[\"immobile\"]),\n",
    "        compartment(\"D\", tags=[\"immobile\"]),\n",
    "        compartment(\"H\", tags=[\"immobile\"]),\n",
    "        compartment(\"X\", tags=[\"mobile\"]),\n",
    "    ]\n",
    "\n",
    "    requirements = [\n",
    "        AttributeDef(\"beta\", type=float, shape=Shapes.TxN, comment=\"infectivity\"),\n",
    "        AttributeDef(\"gamma\", type=float, shape=Shapes.TxN, comment=\"recovery rate\"),\n",
    "        AttributeDef(\"xi\", type=float, shape=Shapes.TxN, comment=\"immune waning rate\"),\n",
    "        AttributeDef(\n",
    "            \"hospitalization_prob\",\n",
    "            type=float,\n",
    "            shape=Shapes.TxN,\n",
    "            comment=\"a ratio of cases which are expected to require hospitalization\",\n",
    "        ),\n",
    "        AttributeDef(\n",
    "            \"hospitalization_duration\",\n",
    "            type=float,\n",
    "            shape=Shapes.TxN,\n",
    "            comment=\"the mean duration of hospitalization, in days\",\n",
    "        ),\n",
    "        AttributeDef(\n",
    "            \"birth_rate\",\n",
    "            type=float,\n",
    "            shape=Shapes.TxN,\n",
    "            comment=\"birth rate per day per capita\",\n",
    "        ),\n",
    "        AttributeDef(\n",
    "            \"leave_rate\", ##the rate each new produce bettle leaves it host tree and move to a new tree\n",
    "            type=float,\n",
    "            shape=Shapes.TxN,\n",
    "            comment=\"birth rate per day per capita\",\n",
    "        ),\n",
    "        AttributeDef(\n",
    "            \"et_factor\", ##the rate each new produce bettle leaves it host tree and move to a new tree\n",
    "            type=float,\n",
    "            shape=Shapes.TxN,\n",
    "            comment=\"birth rate per day per capita\",\n",
    "        ),\n",
    "    ]\n",
    "\n",
    "    def edges(self, symbols):\n",
    "        [S, I, D, H, X] = symbols.all_compartments\n",
    "        [β, γ, ξ, h_prob, h_dur, br, lr, et_factor] = symbols.all_requirements\n",
    "        \n",
    "\n",
    "        # formulate N so as to avoid dividing by zero;\n",
    "        # this is safe in this instance because if the denominator is zero,\n",
    "        # the numerator must also be zero\n",
    "        N = Max(1, S + I + D + H + X + br + lr)\n",
    "\n",
    "        return [\n",
    "            edge(S, I, rate=β * S * X / N), ## S->I1 influenced by X\n",
    "            fork(\n",
    "                edge(I, H, rate=γ * I * h_prob),\n",
    "                #edge(I, D, rate=γ * I * (1 - h_prob)),\n",
    "            ),\n",
    "            edge(H, D, rate=H / h_dur),  \n",
    "            edge(X, X, rate=0),\n",
    "            edge(X, BIRTH, rate = lr * br * et_factor * X) # Beetle dispersal + reproduction (climate-modulated)\n",
    "  \n",
    "        ]\n"
   ]
  },
  {
   "cell_type": "code",
   "execution_count": 6,
   "metadata": {},
   "outputs": [],
   "source": [
    "from functools import cached_property\n",
    "\n",
    "import numpy as np\n",
    "from numpy.typing import NDArray\n",
    "\n",
    "from epymorph.attribute import AttributeDef\n",
    "from epymorph.data_shape import Shapes\n",
    "from epymorph.data_type import CentroidType, SimDType\n",
    "from epymorph.movement_model import EveryDay, MovementClause, MovementModel\n",
    "from epymorph.simulation import Tick, TickDelta, TickIndex\n",
    "from epymorph.util import pairwise_haversine, row_normalize\n",
    "\n",
    "\n",
    "class CentroidsClause(MovementClause):\n",
    "    \"\"\"The clause of the centroids model.\"\"\"\n",
    "\n",
    "    requirements = (\n",
    "        AttributeDef(\n",
    "            \"population\", int, Shapes.N, comment=\"The total population at each node.\"\n",
    "        ),\n",
    "        AttributeDef(\n",
    "            \"centroid\",\n",
    "            CentroidType,\n",
    "            Shapes.N,\n",
    "            comment=\"The centroids for each node as (longitude, latitude) tuples.\",\n",
    "        ),\n",
    "        AttributeDef(\n",
    "            \"phi\",\n",
    "            float,\n",
    "            Shapes.Scalar,\n",
    "            default_value=40.0, #can this be NA since we dont know how far they can travel?\n",
    "            comment=\"Influences the distance that movers tend to travel.\",\n",
    "        ),\n",
    "        AttributeDef(\n",
    "            \"commuter_proportion\",\n",
    "            float,\n",
    "            Shapes.Scalar,\n",
    "            default_value=0.1,\n",
    "            comment=\"The proportion of the total population which commutes.\",\n",
    "        ),\n",
    "    )\n",
    "\n",
    "    predicate = EveryDay()\n",
    "    leaves = TickIndex(step=0)\n",
    "    returns = TickDelta(step=1, days=0)\n",
    "\n",
    "    @cached_property\n",
    "    def dispersal_kernel(self) -> NDArray[np.float64]:\n",
    "        \"\"\"\n",
    "        The NxN matrix or dispersal kernel describing the tendency for movers to move\n",
    "        to a particular location. In this model, the kernel is:\n",
    "            1 / e ^ (distance / phi)\n",
    "        which is then row-normalized.\n",
    "        \"\"\"\n",
    "        centroid = self.data(\"centroid\")\n",
    "        phi = self.data(\"phi\")\n",
    "        distance = pairwise_haversine(centroid)\n",
    "        return row_normalize(1 / np.exp(distance / phi))\n",
    "\n",
    "    def evaluate(self, tick: Tick) -> NDArray[np.int64]:\n",
    "        pop = self.data(\"population\")\n",
    "        comm_prop = self.data(\"commuter_proportion\")\n",
    "        n_commuters = np.floor(pop * comm_prop).astype(SimDType)\n",
    "        return self.rng.multinomial(n_commuters, self.dispersal_kernel)\n",
    "\n",
    "class BeetleAwayClause(MovementClause):\n",
    "    \"\"\"Clause for beetles that leave home and stay away all day.\"\"\"\n",
    "\n",
    "    requirements = CentroidsClause.requirements  # same requirements\n",
    "    #NEVER = TickDelta(step=0, days=0)  # negative day signals \"never\" in epymorph\n",
    "\n",
    "    predicate = EveryDay()\n",
    "    leaves = TickIndex(step=0)   # they leave at start\n",
    "    returns = TickDelta(step=0, days=0)  # no return within the day!\n",
    "    #returns = NEVER #They never return\n",
    "    \n",
    "\n",
    "\n",
    "    @cached_property\n",
    "    def dispersal_kernel(self) -> NDArray[np.float64]:\n",
    "        centroid = self.data(\"centroid\")\n",
    "        phi = self.data(\"phi\")\n",
    "        distance = pairwise_haversine(centroid)\n",
    "        return row_normalize(1 / np.exp(distance / phi))\n",
    "\n",
    "    def evaluate(self, tick: Tick) -> NDArray[np.int64]:\n",
    "        pop = self.data(\"population\")\n",
    "        comm_prop = self.data(\"commuter_proportion\")\n",
    "        n_commuters = np.floor(pop * comm_prop).astype(SimDType)\n",
    "        return self.rng.multinomial(n_commuters, self.dispersal_kernel)\n",
    "\n",
    "class Centroids(MovementModel):\n",
    "    \"\"\"\n",
    "    The centroids MM describes a basic commuter movement where a fixed proportion\n",
    "    of the population commutes every day, travels to another location for 1/3 of a day\n",
    "    (with a location likelihood that decreases with distance), and then returns home for\n",
    "    the remaining 2/3 of the day.\n",
    "    \"\"\"\n",
    "\n",
    "    steps = (1 / 3, 2/ 3) \n",
    "    clauses = (CentroidsClause(),)\n",
    "\n",
    "class BeetleAwayAllDay(MovementModel):\n",
    "    \"\"\"Beetles leave home and stay away all day.\"\"\"\n",
    "    steps = (1.0,)   # only one step\n",
    "    clauses = (BeetleAwayClause(),) # probalility that the BB travels 3/3 times of the day and also returns 3/3 times of the day.\n",
    "\n",
    "\n"
   ]
  },
  {
   "cell_type": "code",
   "execution_count": 7,
   "metadata": {},
   "outputs": [
    {
     "name": "stdout",
     "output_type": "stream",
     "text": [
      "Loading (unspecified)::(unspecified)::temperature (epymorph.adrio.prism.Temperature):\n",
      "  |####################| 100%  (1.026s)\n",
      "Loading (unspecified)::(unspecified)::dewpoint (epymorph.adrio.prism.DewPoint):\n",
      "  |####################| 100%  (0.626s)\n",
      "Loading epymorph.adrio.humidity.RelativeHumidity:\n",
      "  |####################| 100%  (0.001s)\n"
     ]
    }
   ],
   "source": [
    "## import climate variable from ADIRO\n",
    "\n",
    "from datetime import date\n",
    "from epymorph.kit import *\n",
    "from epymorph.kit import *\n",
    "from epymorph.adrio import us_tiger, prism, humidity\n",
    "\n",
    "precip_adrio = prism.Precipitation()\n",
    "mean_temp_adrio = prism.Temperature(\"Mean\")\n",
    "\n",
    "with sim_messaging(live=False):\n",
    "    relH = (\n",
    "        humidity.RelativeHumidity()\n",
    "        .with_context(\n",
    "            scope=scope,\n",
    "            time_frame=TimeFrame.rangex(\"2021-01-01\", \"2021-01-30\"), ## the simulation will run for a 3 years,\n",
    "            params={\n",
    "                \"centroid\": centroids,\n",
    "                \"temperature\": prism.Temperature(\"Mean\"),\n",
    "                \"dewpoint\": prism.DewPoint(),\n",
    "            },\n",
    "        )\n",
    "        .evaluate()\n",
    "    )"
   ]
  },
  {
   "cell_type": "code",
   "execution_count": 8,
   "metadata": {},
   "outputs": [],
   "source": [
    "# Convert RH % to 0–1\n",
    "relH_norm = relH.mean(axis=0) / 100.0\n",
    "\n",
    "# Invert to get beetle success factor\n",
    "et_factor = 1 - relH_norm\n",
    "\n",
    "# Clip to avoid zero or negative rates\n",
    "et_factor = np.clip(et_factor, 0.05, 1.0)  # min 0.05\n"
   ]
  },
  {
   "cell_type": "code",
   "execution_count": 9,
   "metadata": {},
   "outputs": [
    {
     "data": {
      "image/png": "[encoded data removed]",
      "text/plain": [
       "<Figure size 1000x600 with 1 Axes>"
      ]
     },
     "metadata": {},
     "output_type": "display_data"
    }
   ],
   "source": [
    "##model conceptual diagram\n",
    "\n",
    "SIRS_TREES().diagram()"
   ]
  },
  {
   "cell_type": "code",
   "execution_count": 10,
   "metadata": {},
   "outputs": [],
   "source": [
    "import numpy as np\n",
    "\n",
    "from epymorph.kit import *\n",
    "from epymorph.adrio import acs5\n",
    "from epymorph.initializer import Proportional"
   ]
  },
  {
   "cell_type": "code",
   "execution_count": 11,
   "metadata": {},
   "outputs": [],
   "source": [
    "\n",
    "#Construct a RUME with a scope consisting of our scope, \n",
    "# but assume that there is no movement between the states. Essentially, \n",
    "# this simulates four independent populations. Use an SIRH IPM. In each State, \n",
    "# initialize a small fraction initially infectious. Run for 26 weeks.\n",
    "\n",
    "n = 8 #number of scope\n",
    "rume = SingleStrataRUME.build(\n",
    "    #ipm=ipm.SIRH(),\n",
    "    ipm=SIRS_TREES(),\n",
    "    #mm=mm.No(),\n",
    "    mm=BeetleAwayAllDay(),\n",
    "    scope=StateScope.in_states([\"AZ\", \"CO\", \"NM\", \"UT\", \"GA\", \"FL\", \"CA\", \"NY\"], year = 2021),\n",
    "    init=Proportional(\n",
    "        ratios=np.broadcast_to(\n",
    "            np.array([9999, 1, 0, 0, 100], dtype=np.int64), shape=(n, 5) #number of individual in each compartment, so S= 9999 etc.\n",
    "        )\n",
    "    ),\n",
    "    #init=init,\n",
    "    time_frame=TimeFrame.of(\"2021-07-25\", 7 * 104 + 1),\n",
    "    params={\n",
    "        \"beta\": 0.3,  # Placeholder value\n",
    "        \"gamma\": 0.2,\n",
    "        \"xi\": 1 / 365,\n",
    "        \"birth_rate\": 1 / 365,  # one adult offspring per year, how much do they reproduce in a year?\n",
    "        \"leave_rate\": 1 / 365,  # leaves host tree roughly once per year\n",
    "        # example: invert humidity to get beetle success (0–1)\n",
    "        \"et_factor\": et_factor[:n],  # average over time for each grid/state\n",
    "        \"hospitalization_prob\": 200 / 100_000,\n",
    "        \"hospitalization_duration\": 5.0, ##ask tyler if this duration can be made into number of days the insect stays in a particular tree etc\n",
    "        \"population\": [\n",
    "            #4_151_502, # Arizona\n",
    "            #4_773_714, # Colorado\n",
    "            #4_117_522#, # New Mexico\n",
    "            #4_271_616, # Utah\n",
    "            1_326, #total tree population per 100m by 100m grid\n",
    "            1_326,\n",
    "            1_326,\n",
    "            1_326,\n",
    "            1_326,\n",
    "            1_326,\n",
    "            1_326,\n",
    "            1_326\n",
    "        ],\n",
    "        \"centroid\": centroids,\n",
    "    },\n",
    ")"
   ]
  },
  {
   "cell_type": "code",
   "execution_count": 12,
   "metadata": {},
   "outputs": [
    {
     "data": {
      "image/png": "[encoded data removed]",
      "text/plain": [
       "<Figure size 640x480 with 1 Axes>"
      ]
     },
     "metadata": {},
     "output_type": "display_data"
    }
   ],
   "source": [
    "sim = BasicSimulator(rume)\n",
    "output = sim.run(rng_factory=default_rng(42))\n",
    "\n",
    "output.plot.line(\n",
    "    geo=output.rume.scope.select.all(),\n",
    "    time=output.rume.time_frame.select.all(),\n",
    "    quantity=output.rume.ipm.select.compartments(\"S\"),\n",
    ")"
   ]
  },
  {
   "cell_type": "code",
   "execution_count": 13,
   "metadata": {},
   "outputs": [
    {
     "data": {
      "image/png": "[encoded data removed]",
      "text/plain": [
       "<Figure size 640x480 with 1 Axes>"
      ]
     },
     "metadata": {},
     "output_type": "display_data"
    }
   ],
   "source": [
    "##prob of occuring aganist distance:\n",
    "\n",
    "import matplotlib.pyplot as plt\n",
    "phi = 200.0 ##can be any value but good to find a constant\n",
    "xs = np.arange(1,1000) #this should be the actual distance between the grid cells A\n",
    "ys = 1 / np.exp(xs / phi)\n",
    "\n",
    "plt.plot(xs, ys)\n",
    "plt.show()"
   ]
  },
  {
   "cell_type": "code",
   "execution_count": 35,
   "metadata": {},
   "outputs": [
    {
     "data": {
      "image/png": "[encoded data removed]",
      "text/plain": [
       "<Figure size 640x480 with 1 Axes>"
      ]
     },
     "metadata": {},
     "output_type": "display_data"
    }
   ],
   "source": [
    "## plot of how all the grid cells compartments will behave\n",
    "#state_fips = {\"AZ\":\"04\",\"CO\":\"08\",\"NM\":\"35\",\"UT\":\"49\",\n",
    " #             \"GA\":\"13\",\"FL\":\"12\",\"CA\":\"06\",\"NY\":\"36\"}\n",
    "\n",
    "\n",
    "output.plot.line(\n",
    "    geo=output.rume.scope.select.by_id(\"04\"),\n",
    "    time=output.rume.time_frame.select.all(),\n",
    "    quantity=output.rume.ipm.select.compartments(),\n",
    "    #quantity=selected_compartments,\n",
    ")"
   ]
  },
  {
   "cell_type": "code",
   "execution_count": null,
   "metadata": {},
   "outputs": [],
   "source": [
    "from epymorph.adrio import acs5, csv\n",
    "from epymorph.data.ipm.sirh import SIRH\n",
    "from epymorph.data.mm.no import No\n",
    "from epymorph.initializer import Proportional\n",
    "import numpy as np\n",
    "\n",
    "from epymorph.kit import *\n",
    "\n",
    "num_weeks = 156\n",
    "duration = 7 * num_weeks + 1\n",
    "t = np.arange(0, duration)\n",
    "true_beta = 0.05 * np.cos(t * 2 * np.pi / (365)) + 0.25\n",
    "\n",
    "import matplotlib.pyplot as plt\n",
    "\n",
    "plt.plot(t, true_beta)\n",
    "plt.ylabel(\"beta\")\n",
    "plt.xlabel(\"time (days)\")\n",
    "plt.title(\"The transmission rate (beta) over time\")\n",
    "plt.show()"
   ]
  },
  {
   "cell_type": "code",
   "execution_count": null,
   "metadata": {},
   "outputs": [],
   "source": [
    "#Run the model.\n",
    "rng = np.random.default_rng(seed=1)\n",
    "\n",
    "sim = BasicSimulator(rume)\n",
    "with sim_messaging(live = False):\n",
    "    out = sim.run(rng_factory=(lambda: rng))"
   ]
  },
  {
   "cell_type": "code",
   "execution_count": null,
   "metadata": {},
   "outputs": [],
   "source": [
    "#Use epymorph’s aggregation functionality to aggregate the weekly hospitalizations, \n",
    "# then save the synthetic data to a .csv file. \n",
    "# In this case we are specifying that the data observations are new hospitalizations, aggregated per seven days.\n",
    "import tempfile\n",
    "\n",
    "from epymorph.time import EveryNDays\n",
    "from epymorph.tools.data import munge\n",
    "\n",
    "quantity_selection = rume.ipm.select.events(\"I->H\")\n",
    "time_selection = rume.time_frame.select.all().group(EveryNDays(7)).agg()\n",
    "geo_selection = rume.scope.select.all()\n",
    "\n",
    "cases_df = munge(\n",
    "    out,\n",
    "    quantity=quantity_selection,\n",
    "    time=time_selection,\n",
    "    geo=geo_selection,\n",
    ")\n",
    "cases_df.tail(10) #last ten rows\n"
   ]
  },
  {
   "cell_type": "code",
   "execution_count": null,
   "metadata": {},
   "outputs": [],
   "source": [
    "# We'll use a temporary file here,\n",
    "#    but typically you would use a normal file.\n",
    "temp_file = tempfile.NamedTemporaryFile(suffix=\".csv\", delete=False).name\n",
    "cases_df.to_csv(temp_file, index=False)"
   ]
  },
  {
   "cell_type": "code",
   "execution_count": null,
   "metadata": {},
   "outputs": [],
   "source": [
    "import pandas as pd\n",
    "from epymorph.adrio.cdc import InfluenzaStateHospitalization\n",
    "from epymorph.parameter_fitting.likelihood import Poisson\n",
    "from epymorph.parameter_fitting.utils.observations import ModelLink, Observations\n",
    "from epymorph.time import EveryNDays\n",
    "import tempfile\n",
    "from datetime import datetime, timedelta\n",
    "\n",
    "\n",
    "# -------------------------------\n",
    "# Step 0: Define states and FIPS\n",
    "# -------------------------------\n",
    "nodes = [\"AZ\",\"CO\",\"NM\",\"UT\",\"GA\",\"FL\",\"CA\",\"NY\"]\n",
    "state_fips = {\"AZ\":\"04\",\"CO\":\"08\",\"NM\":\"35\",\"UT\":\"49\",\n",
    "              \"GA\":\"13\",\"FL\":\"12\",\"CA\":\"06\",\"NY\":\"36\"}\n",
    "population = [1326] * 8\n",
    "death_percentages = [18.789615, 8.708416, 19.639209, 14.259614, \n",
    "                     19.297432, 13.18899, 22.60519, 6.599833]\n",
    "\n",
    "# -------------------------------\n",
    "# Step 1: Build RUME\n",
    "# -------------------------------\n",
    "# Define TimeFrame: start date + number of days\n",
    "n_days = 7*104 + 1  # 2 years in weeks +1\n",
    "start_date = datetime(2021,7,25)\n",
    "time_frame = TimeFrame.of(\"2021-07-25\", n_days)\n",
    "\n",
    "# Scope using FIPS\n",
    "scope = StateScope.in_states(nodes, year=2021)\n",
    "\n",
    "\n",
    "# -------------------------------\n",
    "# Step 2: Create observed data\n",
    "# -------------------------------\n",
    "# Baseline: day 0\n",
    "baseline_date = start_date\n",
    "baseline = pd.DataFrame({\n",
    "    \"time\": [baseline_date.strftime(\"%Y-%m-%d\")] * len(nodes),\n",
    "    \"geo\": [state_fips[s] for s in nodes],\n",
    "    \"value\": [0]*len(nodes)\n",
    "})\n",
    "\n",
    "# Later: last day within TimeFrame\n",
    "later_date = start_date + timedelta(days=n_days-1)  # make sure inside TimeFrame\n",
    "deaths = [round(population[i]*death_percentages[i]/100) for i in range(len(nodes))]\n",
    "later = pd.DataFrame({\n",
    "    \"time\": [later_date.strftime(\"%Y-%m-%d\")] * len(nodes),\n",
    "    \"geo\": [state_fips[s] for s in nodes],\n",
    "    \"value\": deaths\n",
    "})\n",
    "\n",
    "# Combine\n",
    "obs_data = pd.concat([baseline, later], ignore_index=True)\n",
    "\n",
    "# -------------------------------\n",
    "# Step 3: Save CSV\n",
    "# -------------------------------\n",
    "with tempfile.NamedTemporaryFile(mode=\"w\", suffix=\".csv\", delete=False) as f:\n",
    "    obs_data.to_csv(f, index=False)\n",
    "    csv_path = f.name\n",
    "\n",
    "print(\"CSV saved at:\", csv_path)\n",
    "print(obs_data)\n",
    "\n"
   ]
  },
  {
   "cell_type": "code",
   "execution_count": null,
   "metadata": {},
   "outputs": [],
   "source": [
    "\n",
    "csvadrio = csv.CSVTimeSeries(\n",
    "    file_path=csv_path,\n",
    "    time_col=0,               # column 0 is time\n",
    "    time_frame=rume.time_frame,\n",
    "    key_col=1,                # column 1 is geo/FIPS\n",
    "    data_col=2,               # column 2 is value\n",
    "    data_type=int,\n",
    "    key_type=\"geoid\",\n",
    "    skiprows=1                # skip header\n",
    ").with_context(\n",
    "    scope=StateScope.in_states([\"AZ\",\"CO\",\"NM\",\"UT\",\"GA\",\"FL\",\"CA\",\"NY\"], year=2021)\n",
    ")\n"
   ]
  },
  {
   "cell_type": "code",
   "execution_count": null,
   "metadata": {},
   "outputs": [],
   "source": [
    "#Create the model link, which defines how the model and data are linked, \n",
    "# using the same selectors used to generate the data.\n",
    "\n",
    "from epymorph.parameter_fitting.utils.observations import ModelLink\n",
    "\n",
    "model_link=ModelLink(\n",
    "    quantity=quantity_selection,\n",
    "    time=time_selection,\n",
    "    geo=geo_selection,\n",
    ")"
   ]
  },
  {
   "cell_type": "code",
   "execution_count": null,
   "metadata": {},
   "outputs": [],
   "source": [
    "from epymorph.parameter_fitting.likelihood import Poisson\n",
    "from epymorph.parameter_fitting.utils.observations import Observations\n",
    "\n",
    "observations = Observations(\n",
    "    source=csvadrio,\n",
    "    model_link=model_link,\n",
    "    likelihood=Poisson(),\n",
    ")\n",
    "observations"
   ]
  },
  {
   "cell_type": "code",
   "execution_count": null,
   "metadata": {},
   "outputs": [],
   "source": [
    "from epymorph.parameter_fitting.filter.particle_filter import ParticleFilter\n",
    "\n",
    "filter_type = ParticleFilter(num_particles=200)"
   ]
  },
  {
   "cell_type": "code",
   "execution_count": null,
   "metadata": {},
   "outputs": [],
   "source": [
    "#Specify which parameter(s) are to be estimated. \n",
    "# Specify beta as a time-varying parameter with uniform initial distribution and geometric Brownian motion (GBM) for its dynamics. \n",
    "# GBM is useful since it ensures beta will always be positive.\n",
    "\n",
    "from epymorph.parameter_fitting.distribution import Uniform\n",
    "from epymorph.parameter_fitting.dynamics import GeometricBrownianMotion\n",
    "from epymorph.parameter_fitting.utils.parameter_estimation import EstimateParameters\n",
    "\n",
    "params_space = {\n",
    "    \"beta\": EstimateParameters.TimeVarying(\n",
    "        distribution=Uniform(a=0.05, b=0.5),\n",
    "        dynamics=GeometricBrownianMotion(volatility=0.05),\n",
    "    ),\n",
    "}"
   ]
  },
  {
   "cell_type": "code",
   "execution_count": null,
   "metadata": {},
   "outputs": [],
   "source": [
    "#Create the filter simulation object using the RUME, observations, filter type, and parameter space we defined above.\n",
    "from epymorph.parameter_fitting.particlefilter_simulation import FilterSimulation\n",
    "\n",
    "sim = FilterSimulation(\n",
    "    rume=rume,\n",
    "    observations=observations,\n",
    "    filter_type=filter_type,\n",
    "    params_space=params_space,\n",
    ")"
   ]
  },
  {
   "cell_type": "code",
   "execution_count": null,
   "metadata": {},
   "outputs": [],
   "source": [
    "#Plot the observation data from this FilterSimulation object.\n",
    "plt.bar(range(len(sim.cases)), sim.cases[:, 0])\n",
    "plt.title(\"Observations\")\n",
    "plt.xlabel(\"Time (weeks)\")\n",
    "plt.ylabel(\"Hospitalizations\")\n",
    "plt.grid(True)\n",
    "plt.show()"
   ]
  },
  {
   "cell_type": "code",
   "execution_count": null,
   "metadata": {},
   "outputs": [],
   "source": [
    "#Run the particle filter simulation.\n",
    "output = sim.run(rng=rng)"
   ]
  },
  {
   "cell_type": "code",
   "execution_count": null,
   "metadata": {},
   "outputs": [],
   "source": [
    "#Plot the estimated values of beta compared to the true values.\n",
    "\n",
    "key = \"beta\"\n",
    "\n",
    "key_quantiles = np.array(output.param_quantiles[key])\n",
    "\n",
    "plt.fill_between(\n",
    "    np.arange(0, len(key_quantiles)),\n",
    "    key_quantiles[:, 3, 0],\n",
    "    key_quantiles[:, 22 - 3, 0],\n",
    "    facecolor=\"blue\",\n",
    "    alpha=0.2,\n",
    "    label=\"Quantile Range (10th to 90th)\",\n",
    ")\n",
    "plt.fill_between(\n",
    "    np.arange(0, len(key_quantiles)),\n",
    "    key_quantiles[:, 6, 0],\n",
    "    key_quantiles[:, 22 - 6, 0],\n",
    "    facecolor=\"blue\",\n",
    "    alpha=0.4,\n",
    "    label=\"Quantile Range (25th to 75th)\",\n",
    ")\n",
    "\n",
    "plt.plot(\n",
    "    np.arange(0, len(key_quantiles)),\n",
    "    key_quantiles[:, 11, 0],\n",
    "    color=\"red\",\n",
    "    label=\"Median (50th Percentile)\",\n",
    ")\n",
    "\n",
    "obs = np.arange(0, len(key_quantiles))\n",
    "plt.plot(\n",
    "    1/7*t,\n",
    "    true_beta,\n",
    "    \"k--\",\n",
    "    label=\"Truth\"\n",
    ")\n",
    "\n",
    "plt.title(f\"Estimate of '{key}'\")\n",
    "plt.xlabel(\"Time (weeks)\")\n",
    "plt.ylabel(\"Quantiles\")\n",
    "plt.legend(loc=\"upper right\")\n",
    "plt.grid(True)\n",
    "plt.show()"
   ]
  },
  {
   "cell_type": "code",
   "execution_count": null,
   "metadata": {},
   "outputs": [],
   "source": [
    "#Compare the hospitalizations expected by the model to the actual number of hospitalizations.\n",
    "\n",
    "plt.plot(\n",
    "    output.model_data[:, 0],\n",
    "    label=\"Model Data\",\n",
    "    color=\"red\",\n",
    "    linestyle=\"-\",\n",
    "    zorder=10,\n",
    "    marker=\"x\",\n",
    ")\n",
    "\n",
    "plt.plot(\n",
    "    output.true_data[:, 0],\n",
    "    label=\"True Data\",\n",
    "    color=\"green\",\n",
    "    linestyle=\"--\",\n",
    "    zorder=9,\n",
    "    marker=\"*\",\n",
    ")\n",
    "\n",
    "plt.xlabel(\"Time (weeks)\")\n",
    "plt.ylabel(\"Hospitalization\")\n",
    "plt.title(\"Model Data vs True Data\")\n",
    "plt.legend(loc=\"upper right\")\n",
    "plt.grid(True)\n",
    "\n",
    "plt.show()"
   ]
  }
 ],
 "metadata": {
  "kernelspec": {
   "display_name": "epymorph_graphviz",
   "language": "python",
   "name": "python3"
  },
  "language_info": {
   "codemirror_mode": {
    "name": "ipython",
    "version": 3
   },
   "file_extension": ".py",
   "mimetype": "text/x-python",
   "name": "python",
   "nbconvert_exporter": "python",
   "pygments_lexer": "ipython3",
   "version": "3.11.13"
  },
  "orig_nbformat": 4
 },
 "nbformat": 4,
 "nbformat_minor": 2
}
